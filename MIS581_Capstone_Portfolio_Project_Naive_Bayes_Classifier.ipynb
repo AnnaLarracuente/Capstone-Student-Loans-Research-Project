{
 "cells": [
  {
   "cell_type": "markdown",
   "id": "657375d7",
   "metadata": {},
   "source": [
    "# A Naive Bayes Classifier for Predicting Probability of Americans to Purchase a Home Based on Generation & Having Student Loans (2023)\n",
    "\n",
    "##Anna Larracuente"
   ]
  },
  {
   "cell_type": "code",
   "execution_count": 1,
   "id": "46220062",
   "metadata": {},
   "outputs": [
    {
     "name": "stdout",
     "output_type": "stream",
     "text": [
      "Requirement already satisfied: tabulate in ./opt/anaconda3/lib/python3.9/site-packages (0.8.10)\n",
      "Note: you may need to restart the kernel to use updated packages.\n"
     ]
    }
   ],
   "source": [
    "pip install tabulate"
   ]
  },
  {
   "cell_type": "code",
   "execution_count": 2,
   "id": "b57962bb",
   "metadata": {},
   "outputs": [],
   "source": [
    "#Import Necessary Libraries & Tools\n",
    "\n",
    "import numpy as np\n",
    "import pandas as pd\n",
    "from sklearn import metrics\n",
    "from sklearn.metrics import accuracy_score\n",
    "from sklearn.naive_bayes import GaussianNB\n",
    "from sklearn.model_selection import train_test_split\n",
    "from tabulate import tabulate"
   ]
  },
  {
   "cell_type": "code",
   "execution_count": 3,
   "id": "2002dffc",
   "metadata": {},
   "outputs": [
    {
     "data": {
      "text/html": [
       "<div>\n",
       "<style scoped>\n",
       "    .dataframe tbody tr th:only-of-type {\n",
       "        vertical-align: middle;\n",
       "    }\n",
       "\n",
       "    .dataframe tbody tr th {\n",
       "        vertical-align: top;\n",
       "    }\n",
       "\n",
       "    .dataframe thead th {\n",
       "        text-align: right;\n",
       "    }\n",
       "</style>\n",
       "<table border=\"1\" class=\"dataframe\">\n",
       "  <thead>\n",
       "    <tr style=\"text-align: right;\">\n",
       "      <th></th>\n",
       "      <th>SUB_DATE</th>\n",
       "      <th>SEX</th>\n",
       "      <th>SEX_BIN</th>\n",
       "      <th>AGE</th>\n",
       "      <th>GEN</th>\n",
       "      <th>GEN_CLASS</th>\n",
       "      <th>MAR_STAT</th>\n",
       "      <th>MAR_STAT_CLASS</th>\n",
       "      <th>IND_ANN_INC ($)</th>\n",
       "      <th>IND_ANN_INC_LOW</th>\n",
       "      <th>...</th>\n",
       "      <th>STUDENTLOANS?</th>\n",
       "      <th>STUDENTLOANS_BIN</th>\n",
       "      <th>TOT_UG_SLD ($)</th>\n",
       "      <th>TOT_G_SLD ($)</th>\n",
       "      <th>TOT_UGG_SLD_BCS ($)</th>\n",
       "      <th>TOT_UGG_SLD_WCS ($)</th>\n",
       "      <th>TOT_UGG_SLD_AVG ($)</th>\n",
       "      <th>ANN_SLD_INC_DTIRAT</th>\n",
       "      <th>MON_SLD_INC_DTIRAT</th>\n",
       "      <th>ANN_SLD_INC_DTIRAT_PRCNT</th>\n",
       "    </tr>\n",
       "  </thead>\n",
       "  <tbody>\n",
       "    <tr>\n",
       "      <th>0</th>\n",
       "      <td>3/26/23</td>\n",
       "      <td>Male</td>\n",
       "      <td>0</td>\n",
       "      <td>27 - 42</td>\n",
       "      <td>Millennial</td>\n",
       "      <td>5</td>\n",
       "      <td>Single</td>\n",
       "      <td>0</td>\n",
       "      <td>90001 - 110000</td>\n",
       "      <td>90000</td>\n",
       "      <td>...</td>\n",
       "      <td>Yes</td>\n",
       "      <td>1</td>\n",
       "      <td>10001 - 25000</td>\n",
       "      <td>25001 - 50000</td>\n",
       "      <td>35000</td>\n",
       "      <td>75000</td>\n",
       "      <td>55000</td>\n",
       "      <td>0.55</td>\n",
       "      <td>6.60</td>\n",
       "      <td>55.0</td>\n",
       "    </tr>\n",
       "    <tr>\n",
       "      <th>1</th>\n",
       "      <td>3/26/23</td>\n",
       "      <td>Female</td>\n",
       "      <td>1</td>\n",
       "      <td>27 - 42</td>\n",
       "      <td>Millennial</td>\n",
       "      <td>5</td>\n",
       "      <td>Married</td>\n",
       "      <td>1</td>\n",
       "      <td>50001 - 75000</td>\n",
       "      <td>50000</td>\n",
       "      <td>...</td>\n",
       "      <td>Yes</td>\n",
       "      <td>1</td>\n",
       "      <td>10001 - 25000</td>\n",
       "      <td>10001 - 25000</td>\n",
       "      <td>20000</td>\n",
       "      <td>50000</td>\n",
       "      <td>35000</td>\n",
       "      <td>0.56</td>\n",
       "      <td>6.72</td>\n",
       "      <td>56.0</td>\n",
       "    </tr>\n",
       "    <tr>\n",
       "      <th>2</th>\n",
       "      <td>3/26/23</td>\n",
       "      <td>Male</td>\n",
       "      <td>0</td>\n",
       "      <td>43 - 58</td>\n",
       "      <td>Gen X</td>\n",
       "      <td>4</td>\n",
       "      <td>Married</td>\n",
       "      <td>1</td>\n",
       "      <td>110001 - 130000</td>\n",
       "      <td>110000</td>\n",
       "      <td>...</td>\n",
       "      <td>No, I did not take out student loans in my nam...</td>\n",
       "      <td>0</td>\n",
       "      <td>0</td>\n",
       "      <td>0</td>\n",
       "      <td>0</td>\n",
       "      <td>0</td>\n",
       "      <td>0</td>\n",
       "      <td>0.00</td>\n",
       "      <td>0.00</td>\n",
       "      <td>0.0</td>\n",
       "    </tr>\n",
       "    <tr>\n",
       "      <th>3</th>\n",
       "      <td>3/26/23</td>\n",
       "      <td>Female</td>\n",
       "      <td>1</td>\n",
       "      <td>43 - 58</td>\n",
       "      <td>Gen X</td>\n",
       "      <td>4</td>\n",
       "      <td>Married</td>\n",
       "      <td>1</td>\n",
       "      <td>30001 - 50000</td>\n",
       "      <td>30000</td>\n",
       "      <td>...</td>\n",
       "      <td>No, I did not take out student loans in my nam...</td>\n",
       "      <td>0</td>\n",
       "      <td>0</td>\n",
       "      <td>0</td>\n",
       "      <td>0</td>\n",
       "      <td>0</td>\n",
       "      <td>0</td>\n",
       "      <td>0.00</td>\n",
       "      <td>0.00</td>\n",
       "      <td>0.0</td>\n",
       "    </tr>\n",
       "    <tr>\n",
       "      <th>4</th>\n",
       "      <td>3/26/23</td>\n",
       "      <td>Male</td>\n",
       "      <td>0</td>\n",
       "      <td>59 - 68</td>\n",
       "      <td>Boomers II</td>\n",
       "      <td>3</td>\n",
       "      <td>Divorced</td>\n",
       "      <td>3</td>\n",
       "      <td>130001 - 150000</td>\n",
       "      <td>130000</td>\n",
       "      <td>...</td>\n",
       "      <td>No, I have paid off all of my student loans</td>\n",
       "      <td>0</td>\n",
       "      <td>0</td>\n",
       "      <td>0</td>\n",
       "      <td>0</td>\n",
       "      <td>0</td>\n",
       "      <td>0</td>\n",
       "      <td>0.00</td>\n",
       "      <td>0.00</td>\n",
       "      <td>0.0</td>\n",
       "    </tr>\n",
       "  </tbody>\n",
       "</table>\n",
       "<p>5 rows × 78 columns</p>\n",
       "</div>"
      ],
      "text/plain": [
       "  SUB_DATE     SEX  SEX_BIN      AGE         GEN  GEN_CLASS  MAR_STAT  \\\n",
       "0  3/26/23    Male        0  27 - 42  Millennial          5    Single   \n",
       "1  3/26/23  Female        1  27 - 42  Millennial          5   Married   \n",
       "2  3/26/23    Male        0  43 - 58       Gen X          4   Married   \n",
       "3  3/26/23  Female        1  43 - 58       Gen X          4   Married   \n",
       "4  3/26/23    Male        0  59 - 68  Boomers II          3  Divorced   \n",
       "\n",
       "   MAR_STAT_CLASS  IND_ANN_INC ($)  IND_ANN_INC_LOW  ...  \\\n",
       "0               0   90001 - 110000            90000  ...   \n",
       "1               1    50001 - 75000            50000  ...   \n",
       "2               1  110001 - 130000           110000  ...   \n",
       "3               1    30001 - 50000            30000  ...   \n",
       "4               3  130001 - 150000           130000  ...   \n",
       "\n",
       "                                       STUDENTLOANS?  STUDENTLOANS_BIN  \\\n",
       "0                                                Yes                 1   \n",
       "1                                                Yes                 1   \n",
       "2  No, I did not take out student loans in my nam...                 0   \n",
       "3  No, I did not take out student loans in my nam...                 0   \n",
       "4        No, I have paid off all of my student loans                 0   \n",
       "\n",
       "   TOT_UG_SLD ($)  TOT_G_SLD ($)  TOT_UGG_SLD_BCS ($) TOT_UGG_SLD_WCS ($)  \\\n",
       "0   10001 - 25000  25001 - 50000                35000               75000   \n",
       "1   10001 - 25000  10001 - 25000                20000               50000   \n",
       "2               0              0                    0                   0   \n",
       "3               0              0                    0                   0   \n",
       "4               0              0                    0                   0   \n",
       "\n",
       "   TOT_UGG_SLD_AVG ($) ANN_SLD_INC_DTIRAT  MON_SLD_INC_DTIRAT  \\\n",
       "0                55000               0.55                6.60   \n",
       "1                35000               0.56                6.72   \n",
       "2                    0               0.00                0.00   \n",
       "3                    0               0.00                0.00   \n",
       "4                    0               0.00                0.00   \n",
       "\n",
       "   ANN_SLD_INC_DTIRAT_PRCNT  \n",
       "0                      55.0  \n",
       "1                      56.0  \n",
       "2                       0.0  \n",
       "3                       0.0  \n",
       "4                       0.0  \n",
       "\n",
       "[5 rows x 78 columns]"
      ]
     },
     "execution_count": 3,
     "metadata": {},
     "output_type": "execute_result"
    }
   ],
   "source": [
    "#Load, Convert to Data Frame, and View First 5 Records of Student Loans Data Data Set\n",
    "\n",
    "sl = pd.read_csv(\"STUDENTLOANSDS.csv\")\n",
    "sldf = pd.DataFrame(sl)\n",
    "sldf.head()"
   ]
  },
  {
   "cell_type": "code",
   "execution_count": 4,
   "id": "068ccc96",
   "metadata": {},
   "outputs": [
    {
     "data": {
      "text/plain": [
       "0      25001 - 50000\n",
       "1      10001 - 25000\n",
       "2                  0\n",
       "3                  0\n",
       "4                  0\n",
       "           ...      \n",
       "96                 0\n",
       "97                 0\n",
       "98                 0\n",
       "99                 0\n",
       "100    10001 - 25000\n",
       "Name: TOT_G_SLD ($), Length: 101, dtype: object"
      ]
     },
     "execution_count": 4,
     "metadata": {},
     "output_type": "execute_result"
    }
   ],
   "source": [
    "#Pop off Submission Date, Sex, Age, Gender, Marital Status Columns (SUB_DATE)\n",
    "\n",
    "sldf.pop(\"SUB_DATE\")\n",
    "sldf.pop(\"SEX\")\n",
    "sldf.pop(\"AGE\")\n",
    "sldf.pop(\"GEN\")\n",
    "sldf.pop(\"MAR_STAT\")\n",
    "sldf.pop(\"IND_ANN_INC ($)\")\n",
    "sldf.pop(\"HSD_GED?\")\n",
    "sldf.pop(\"BACH_DEG?\")\n",
    "sldf.pop(\"HIGHER_ED?\")\n",
    "sldf.pop(\"CURR_STUDENT?\")\n",
    "sldf.pop(\"OWN_CAR?\")\n",
    "sldf.pop(\"HOUSING\")\n",
    "sldf.pop(\"PETS?\")\n",
    "sldf.pop(\"VACATION?\")\n",
    "sldf.pop(\"TRAV_STATE?\")\n",
    "sldf.pop(\"TRAV_STATE_Q\")\n",
    "sldf.pop(\"TRAV_US?\")\n",
    "sldf.pop(\"TRAV_US_Q\")\n",
    "sldf.pop(\"MULTI_GEN?\")\n",
    "sldf.pop(\"CHILDREN?\")\n",
    "sldf.pop(\"MOV?\")\n",
    "sldf.pop(\"HOB?\")\n",
    "sldf.pop(\"AVG_MON_HOB\")\n",
    "sldf.pop(\"DINEOUT?\")\n",
    "sldf.pop(\"AVG_WEEKLY_DINEOUT\")\n",
    "sldf.pop(\"ORDERIN?\")\n",
    "sldf.pop(\"AVG_WEEKLY_ORDERIN\")\n",
    "sldf.pop(\"DONATIONS?\")\n",
    "sldf.pop(\"ANN_EVENTS_ATT_Q\")\n",
    "sldf.pop(\"ANN_EVENTS_HOST_Q\")\n",
    "sldf.pop(\"MON_ESS_EXP ($)\")\n",
    "sldf.pop(\"ANN_NONESS_EXP ($)\")\n",
    "sldf.pop(\"LUX_Q\")\n",
    "sldf.pop(\"STUDENTLOANS?\")\n",
    "sldf.pop(\"TOT_UG_SLD ($)\")\n",
    "sldf.pop(\"TOT_G_SLD ($)\")"
   ]
  },
  {
   "cell_type": "code",
   "execution_count": 5,
   "id": "cbfe2a26",
   "metadata": {},
   "outputs": [
    {
     "name": "stdout",
     "output_type": "stream",
     "text": [
      "0      0\n",
      "1      0\n",
      "2      0\n",
      "3      0\n",
      "4      1\n",
      "      ..\n",
      "96     0\n",
      "97     1\n",
      "98     1\n",
      "99     0\n",
      "100    0\n",
      "Name: HOUSING_BIN, Length: 101, dtype: int64\n"
     ]
    }
   ],
   "source": [
    "#Print the Target Variable: HOUSING_BIN\n",
    "\n",
    "print(sldf[\"HOUSING_BIN\"])"
   ]
  },
  {
   "cell_type": "code",
   "execution_count": 6,
   "id": "d098e6a8",
   "metadata": {},
   "outputs": [],
   "source": [
    "#Split Student Loan Data Set into Training & Testing Sets: 80% Training and 20% Test\n",
    "\n",
    "x_train, x_test, y_train, y_test = train_test_split(sldf, sldf[\"HOUSING_BIN\"], test_size = 0.20, random_state = 26)"
   ]
  },
  {
   "cell_type": "code",
   "execution_count": 7,
   "id": "75441ba0",
   "metadata": {},
   "outputs": [],
   "source": [
    "#Create a Gaussian Naive Bayes Classifier\n",
    "\n",
    "NBC = GaussianNB()"
   ]
  },
  {
   "cell_type": "code",
   "execution_count": 8,
   "id": "7417d264",
   "metadata": {},
   "outputs": [
    {
     "data": {
      "text/plain": [
       "GaussianNB()"
      ]
     },
     "execution_count": 8,
     "metadata": {},
     "output_type": "execute_result"
    }
   ],
   "source": [
    "#Train the Model using the Training Set\n",
    "\n",
    "NBC.fit(x_train, y_train)"
   ]
  },
  {
   "cell_type": "code",
   "execution_count": 9,
   "id": "55f9d023",
   "metadata": {},
   "outputs": [],
   "source": [
    "#Predict the Response for Test Data Set\n",
    "\n",
    "y_pred = NBC.predict(x_test)"
   ]
  },
  {
   "cell_type": "code",
   "execution_count": 10,
   "id": "7a97df28",
   "metadata": {},
   "outputs": [
    {
     "name": "stdout",
     "output_type": "stream",
     "text": [
      "Accuracy: 0.8571428571428571\n"
     ]
    }
   ],
   "source": [
    "#Check Model Accuracy\n",
    "\n",
    "print(\"Accuracy:\", metrics.accuracy_score(y_test, y_pred))"
   ]
  },
  {
   "cell_type": "code",
   "execution_count": 11,
   "id": "a30b0306",
   "metadata": {},
   "outputs": [
    {
     "data": {
      "text/html": [
       "<div>\n",
       "<style scoped>\n",
       "    .dataframe tbody tr th:only-of-type {\n",
       "        vertical-align: middle;\n",
       "    }\n",
       "\n",
       "    .dataframe tbody tr th {\n",
       "        vertical-align: top;\n",
       "    }\n",
       "\n",
       "    .dataframe thead tr th {\n",
       "        text-align: left;\n",
       "    }\n",
       "\n",
       "    .dataframe thead tr:last-of-type th {\n",
       "        text-align: right;\n",
       "    }\n",
       "</style>\n",
       "<table border=\"1\" class=\"dataframe\">\n",
       "  <thead>\n",
       "    <tr>\n",
       "      <th>GEN_CLASS</th>\n",
       "      <th>1</th>\n",
       "      <th>2</th>\n",
       "      <th colspan=\"2\" halign=\"left\">3</th>\n",
       "      <th colspan=\"2\" halign=\"left\">4</th>\n",
       "      <th colspan=\"2\" halign=\"left\">5</th>\n",
       "      <th>6</th>\n",
       "      <th>All</th>\n",
       "    </tr>\n",
       "    <tr>\n",
       "      <th>STUDENTLOANS_BIN</th>\n",
       "      <th>0</th>\n",
       "      <th>0</th>\n",
       "      <th>0</th>\n",
       "      <th>1</th>\n",
       "      <th>0</th>\n",
       "      <th>1</th>\n",
       "      <th>0</th>\n",
       "      <th>1</th>\n",
       "      <th>1</th>\n",
       "      <th></th>\n",
       "    </tr>\n",
       "    <tr>\n",
       "      <th>HOUSING_BIN</th>\n",
       "      <th></th>\n",
       "      <th></th>\n",
       "      <th></th>\n",
       "      <th></th>\n",
       "      <th></th>\n",
       "      <th></th>\n",
       "      <th></th>\n",
       "      <th></th>\n",
       "      <th></th>\n",
       "      <th></th>\n",
       "    </tr>\n",
       "  </thead>\n",
       "  <tbody>\n",
       "    <tr>\n",
       "      <th>0</th>\n",
       "      <td>0</td>\n",
       "      <td>1</td>\n",
       "      <td>4</td>\n",
       "      <td>0</td>\n",
       "      <td>5</td>\n",
       "      <td>1</td>\n",
       "      <td>9</td>\n",
       "      <td>19</td>\n",
       "      <td>3</td>\n",
       "      <td>42</td>\n",
       "    </tr>\n",
       "    <tr>\n",
       "      <th>1</th>\n",
       "      <td>1</td>\n",
       "      <td>1</td>\n",
       "      <td>12</td>\n",
       "      <td>2</td>\n",
       "      <td>13</td>\n",
       "      <td>3</td>\n",
       "      <td>18</td>\n",
       "      <td>8</td>\n",
       "      <td>1</td>\n",
       "      <td>59</td>\n",
       "    </tr>\n",
       "    <tr>\n",
       "      <th>All</th>\n",
       "      <td>1</td>\n",
       "      <td>2</td>\n",
       "      <td>16</td>\n",
       "      <td>2</td>\n",
       "      <td>18</td>\n",
       "      <td>4</td>\n",
       "      <td>27</td>\n",
       "      <td>27</td>\n",
       "      <td>4</td>\n",
       "      <td>101</td>\n",
       "    </tr>\n",
       "  </tbody>\n",
       "</table>\n",
       "</div>"
      ],
      "text/plain": [
       "GEN_CLASS         1  2   3      4      5      6  All\n",
       "STUDENTLOANS_BIN  0  0   0  1   0  1   0   1  1     \n",
       "HOUSING_BIN                                         \n",
       "0                 0  1   4  0   5  1   9  19  3   42\n",
       "1                 1  1  12  2  13  3  18   8  1   59\n",
       "All               1  2  16  2  18  4  27  27  4  101"
      ]
     },
     "execution_count": 11,
     "metadata": {},
     "output_type": "execute_result"
    }
   ],
   "source": [
    "#Create a Frequency Table of American Homeowners by Predicted Generation & Having Student Loan Debt\n",
    "\n",
    "freqtab = pd.crosstab(index = sldf[\"HOUSING_BIN\"], \n",
    "                      columns = [sldf[\"GEN_CLASS\"],\n",
    "                                 sldf[\"STUDENTLOANS_BIN\"]],\n",
    "                              margins = True)\n",
    "\n",
    "freqtab"
   ]
  },
  {
   "cell_type": "code",
   "execution_count": 12,
   "id": "8e9a3113",
   "metadata": {},
   "outputs": [],
   "source": [
    "#Hypothesis & Prior Probability of Homeownership by Having Student Loans\n",
    "\n",
    "hypos = 'Own a Home', 'Do Not Own a Home'\n",
    "\n",
    "prob = 0.40, 0.60"
   ]
  },
  {
   "cell_type": "code",
   "execution_count": 13,
   "id": "cd164d4f",
   "metadata": {},
   "outputs": [
    {
     "name": "stdout",
     "output_type": "stream",
     "text": [
      "Own a Home           0.4\n",
      "Do Not Own a Home    0.6\n",
      "dtype: float64\n"
     ]
    }
   ],
   "source": [
    "#Prior Probabilities Summary by Gender\n",
    "\n",
    "prior = pd.Series(prob, hypos)\n",
    "\n",
    "print(prior)"
   ]
  },
  {
   "cell_type": "code",
   "execution_count": 14,
   "id": "d2ab4550",
   "metadata": {},
   "outputs": [],
   "source": [
    "#Likelihoods by Generation (Taken From Frequency Table Above, with Laplacian Correction)\n",
    "\n",
    "likelihoodsPostWarWithLoans = 1/1, 1/1\n",
    "likelihoodsPostWarNoLoans = 2/2, 1/2\n",
    "\n",
    "likelihoodsBoomersIWithLoans = 1/3, 1/3\n",
    "likelihoodsBoomersINoLoans = 3/3, 2/3\n",
    "\n",
    "likelihoodsBoomersIIWithLoans = 3/5, 2/5\n",
    "likelihoodsBoomersIINoLoans = 14/19, 6/19\n",
    "\n",
    "likelihoodsGenXWithLoans = 9/28, 20/28\n",
    "likelihoodsGenXNoLoans = 19/28, 10/28\n",
    "\n",
    "likelihoodsMillennialsWithLoans = 2/17, 2/17\n",
    "likelihoodsMillennialsNoLoans = 2/17, 2/17\n",
    "\n",
    "likelihoodsGenZWithLoans = 2/5, 4/5\n",
    "likelihoodsGenZNoLoans = 1/1, 1/1\n",
    "\n",
    "likelihoodsPostWarOwnersWithLoans = 1/1\n",
    "likelihoodsPostWarOwnersNoLoans = 2/2\n",
    "likelihoodsPostWarNonOwnersWithLoans = 1/1\n",
    "likelihoodsPostWarNonOwnersNoLoans = 1/2\n",
    "\n",
    "likelihoodsBoomersIOwnersWithLoans = 1/3\n",
    "likelihoodsBoomersIOwnersNoLoans = 3/3\n",
    "likelihoodsBoomersINonOwnersWithLoans = 1/3\n",
    "likelihoodsBoomersINonOwnersNoLoans = 2/3\n",
    "\n",
    "likelihoodsBoomersIIOwnersWithLoans = 3/5\n",
    "likelihoodsBoomersIIOwnersNoLoans = 14/19\n",
    "likelihoodsBoomersIINonOwnersWithLoans = 2/5\n",
    "likelihoodsBoomersIINonOwnersNoLoans = 6/19\n",
    "\n",
    "likelihoodsGenXOwnersWithLoans = 9/28\n",
    "likelihoodsGenXOwnersNoLoans = 19/28\n",
    "likelihoodsGenXNonOwnersWithLoans = 20/28\n",
    "likelihoodsGenXNonOwnersNoLoans = 10/28\n",
    "\n",
    "likelihoodsMillennialsOwnersWithLoans = 2/17\n",
    "likelihoodsMillennialsOwnersNoLoans = 2/17\n",
    "likelihoodsMillennialsNonOwnersWithLoans = 2/17\n",
    "likelihoodsMillennialsNonOwnersNoLoans = 2/17\n",
    "\n",
    "likelihoodsGenZOwnersWithLoans = 2/5\n",
    "likelihoodsGenZOwnersNoLoans = 1/1\n",
    "likelihoodsGenZNonOwnersWithLoans = 4/5\n",
    "likelihoodsGenZNonOwnersNoLoans = 1/1"
   ]
  },
  {
   "cell_type": "code",
   "execution_count": 15,
   "id": "7ebf80d0",
   "metadata": {},
   "outputs": [
    {
     "name": "stdout",
     "output_type": "stream",
     "text": [
      "╒══════════════╤══════════════════╤══════════════════╤══════════════╕\n",
      "│ Generation   │ Student Loans?   │ Home Ownership   │   Likelihood │\n",
      "╞══════════════╪══════════════════╪══════════════════╪══════════════╡\n",
      "│ PostWar      │ Yes              │ Owner            │     1        │\n",
      "├──────────────┼──────────────────┼──────────────────┼──────────────┤\n",
      "│ PostWar      │ No               │ Owner            │     1        │\n",
      "├──────────────┼──────────────────┼──────────────────┼──────────────┤\n",
      "│ PostWar      │ Yes              │ Non-Owner        │     1        │\n",
      "├──────────────┼──────────────────┼──────────────────┼──────────────┤\n",
      "│ PostWar      │ No               │ Non-Owner        │     0.5      │\n",
      "├──────────────┼──────────────────┼──────────────────┼──────────────┤\n",
      "│ BoomersI     │ Yes              │ Owner            │     0.333333 │\n",
      "├──────────────┼──────────────────┼──────────────────┼──────────────┤\n",
      "│ BoomersI     │ No               │ Owner            │     1        │\n",
      "├──────────────┼──────────────────┼──────────────────┼──────────────┤\n",
      "│ BoomersI     │ Yes              │ Non-Owner        │     0.333333 │\n",
      "├──────────────┼──────────────────┼──────────────────┼──────────────┤\n",
      "│ BoomersI     │ No               │ Non-Owner        │     0.666667 │\n",
      "├──────────────┼──────────────────┼──────────────────┼──────────────┤\n",
      "│ BoomersII    │ Yes              │ Owner            │     0.6      │\n",
      "├──────────────┼──────────────────┼──────────────────┼──────────────┤\n",
      "│ BoomersII    │ No               │ Owner            │     0.736842 │\n",
      "├──────────────┼──────────────────┼──────────────────┼──────────────┤\n",
      "│ BoomersII    │ Yes              │ Non-Owner        │     0.4      │\n",
      "├──────────────┼──────────────────┼──────────────────┼──────────────┤\n",
      "│ BoomersII    │ No               │ Non-Owner        │     0.315789 │\n",
      "├──────────────┼──────────────────┼──────────────────┼──────────────┤\n",
      "│ GenX         │ Yes              │ Owner            │     0.321429 │\n",
      "├──────────────┼──────────────────┼──────────────────┼──────────────┤\n",
      "│ GenX         │ No               │ Owner            │     0.678571 │\n",
      "├──────────────┼──────────────────┼──────────────────┼──────────────┤\n",
      "│ GenX         │ Yes              │ Non-Owner        │     0.714286 │\n",
      "├──────────────┼──────────────────┼──────────────────┼──────────────┤\n",
      "│ GenX         │ No               │ Non-Owner        │     0.357143 │\n",
      "├──────────────┼──────────────────┼──────────────────┼──────────────┤\n",
      "│ Millennials  │ Yes              │ Owner            │     0.117647 │\n",
      "├──────────────┼──────────────────┼──────────────────┼──────────────┤\n",
      "│ Millennials  │ No               │ Owner            │     0.117647 │\n",
      "├──────────────┼──────────────────┼──────────────────┼──────────────┤\n",
      "│ Millennials  │ Yes              │ Non-Owner        │     0.117647 │\n",
      "├──────────────┼──────────────────┼──────────────────┼──────────────┤\n",
      "│ Millennials  │ No               │ Non-Owner        │     0.117647 │\n",
      "├──────────────┼──────────────────┼──────────────────┼──────────────┤\n",
      "│ GenZ         │ Yes              │ Owner            │     0.4      │\n",
      "├──────────────┼──────────────────┼──────────────────┼──────────────┤\n",
      "│ GenZ         │ No               │ Owner            │     1        │\n",
      "├──────────────┼──────────────────┼──────────────────┼──────────────┤\n",
      "│ GenZ         │ Yes              │ Non-Owner        │     0.8      │\n",
      "├──────────────┼──────────────────┼──────────────────┼──────────────┤\n",
      "│ GenZ         │ No               │ Non-Owner        │     1        │\n",
      "╘══════════════╧══════════════════╧══════════════════╧══════════════╛\n"
     ]
    }
   ],
   "source": [
    "#Likelihoods Table Summary By Generation and Ownership\n",
    "\n",
    "data = [[\"PostWar\", \"Yes\", \"Owner\", likelihoodsPostWarOwnersWithLoans], \n",
    "        [\"PostWar\", \"No\", \"Owner\", likelihoodsPostWarOwnersNoLoans],\n",
    "        [\"PostWar\", \"Yes\", \"Non-Owner\", likelihoodsPostWarNonOwnersWithLoans],\n",
    "        [\"PostWar\", \"No\", \"Non-Owner\", likelihoodsPostWarNonOwnersNoLoans],\n",
    "        [\"BoomersI\", \"Yes\", \"Owner\", likelihoodsBoomersIOwnersWithLoans], \n",
    "        [\"BoomersI\", \"No\", \"Owner\", likelihoodsBoomersIOwnersNoLoans],\n",
    "        [\"BoomersI\", \"Yes\", \"Non-Owner\", likelihoodsBoomersINonOwnersWithLoans],\n",
    "        [\"BoomersI\", \"No\", \"Non-Owner\", likelihoodsBoomersINonOwnersNoLoans],\n",
    "        [\"BoomersII\", \"Yes\", \"Owner\", likelihoodsBoomersIIOwnersWithLoans], \n",
    "        [\"BoomersII\", \"No\", \"Owner\", likelihoodsBoomersIIOwnersNoLoans],\n",
    "        [\"BoomersII\", \"Yes\", \"Non-Owner\", likelihoodsBoomersIINonOwnersWithLoans],\n",
    "        [\"BoomersII\", \"No\", \"Non-Owner\", likelihoodsBoomersIINonOwnersNoLoans],\n",
    "        [\"GenX\", \"Yes\", \"Owner\", likelihoodsGenXOwnersWithLoans], \n",
    "        [\"GenX\", \"No\", \"Owner\", likelihoodsGenXOwnersNoLoans],\n",
    "        [\"GenX\", \"Yes\", \"Non-Owner\", likelihoodsGenXNonOwnersWithLoans],\n",
    "        [\"GenX\", \"No\", \"Non-Owner\", likelihoodsGenXNonOwnersNoLoans],\n",
    "        [\"Millennials\", \"Yes\", \"Owner\", likelihoodsMillennialsOwnersWithLoans], \n",
    "        [\"Millennials\", \"No\", \"Owner\", likelihoodsMillennialsOwnersNoLoans],\n",
    "        [\"Millennials\", \"Yes\", \"Non-Owner\", likelihoodsMillennialsNonOwnersWithLoans],\n",
    "        [\"Millennials\", \"No\", \"Non-Owner\", likelihoodsMillennialsNonOwnersNoLoans],\n",
    "        [\"GenZ\", \"Yes\", \"Owner\", likelihoodsGenZOwnersWithLoans], \n",
    "        [\"GenZ\", \"No\", \"Owner\", likelihoodsGenZOwnersNoLoans],\n",
    "        [\"GenZ\", \"Yes\", \"Non-Owner\", likelihoodsGenZNonOwnersWithLoans],\n",
    "        [\"GenZ\", \"No\", \"Non-Owner\", likelihoodsGenZNonOwnersNoLoans]]\n",
    "\n",
    "col_names = [\"Generation\", \"Student Loans?\", \"Home Ownership\", \"Likelihood\"]\n",
    "\n",
    "print(tabulate(data, headers = col_names, tablefmt = \"fancy_grid\"))"
   ]
  },
  {
   "cell_type": "code",
   "execution_count": 16,
   "id": "e7b4eee1",
   "metadata": {},
   "outputs": [
    {
     "name": "stdout",
     "output_type": "stream",
     "text": [
      "Own a Home           0.4\n",
      "Do Not Own a Home    0.6\n",
      "dtype: float64\n"
     ]
    }
   ],
   "source": [
    "#Unnormalized Posterior Probability Calculation for Post War Home Owners & Non-Owners With Student Loans\n",
    "\n",
    "unnorm1 = prior * likelihoodsPostWarWithLoans\n",
    "\n",
    "print(unnorm1)"
   ]
  },
  {
   "cell_type": "code",
   "execution_count": 17,
   "id": "ef0a8db6",
   "metadata": {},
   "outputs": [
    {
     "name": "stdout",
     "output_type": "stream",
     "text": [
      "Own a Home           0.4\n",
      "Do Not Own a Home    0.3\n",
      "dtype: float64\n"
     ]
    }
   ],
   "source": [
    "#Unnormalized Posterior Probability Calculation for Post War Home Owners & Non-Owners With No Student Loans\n",
    "\n",
    "unnorm2 = prior * likelihoodsPostWarNoLoans\n",
    "\n",
    "print(unnorm2)"
   ]
  },
  {
   "cell_type": "code",
   "execution_count": 18,
   "id": "f0ec5c46",
   "metadata": {},
   "outputs": [
    {
     "name": "stdout",
     "output_type": "stream",
     "text": [
      "Own a Home           0.133333\n",
      "Do Not Own a Home    0.200000\n",
      "dtype: float64\n"
     ]
    }
   ],
   "source": [
    "#Unnormalized Posterior Probability Calculation for Boomers I Home Owners & Non-Owners With Student Loans\n",
    "\n",
    "unnorm3 = prior * likelihoodsBoomersIWithLoans\n",
    "\n",
    "print(unnorm3)"
   ]
  },
  {
   "cell_type": "code",
   "execution_count": 19,
   "id": "f60fceb6",
   "metadata": {},
   "outputs": [
    {
     "name": "stdout",
     "output_type": "stream",
     "text": [
      "Own a Home           0.4\n",
      "Do Not Own a Home    0.4\n",
      "dtype: float64\n"
     ]
    }
   ],
   "source": [
    "#Unnormalized Posterior Probability Calculation for Boomers I Home Owners & Non-Owners With No Student Loans\n",
    "\n",
    "unnorm4 = prior * likelihoodsBoomersINoLoans\n",
    "\n",
    "print(unnorm4)"
   ]
  },
  {
   "cell_type": "code",
   "execution_count": 20,
   "id": "7d155dc2",
   "metadata": {},
   "outputs": [
    {
     "name": "stdout",
     "output_type": "stream",
     "text": [
      "Own a Home           0.24\n",
      "Do Not Own a Home    0.24\n",
      "dtype: float64\n"
     ]
    }
   ],
   "source": [
    "#Unnormalized Posterior Probability Calculation for Boomers II Home Owners & Non-Owners With Student Loans\n",
    "\n",
    "unnorm5 = prior * likelihoodsBoomersIIWithLoans\n",
    "\n",
    "print(unnorm5)"
   ]
  },
  {
   "cell_type": "code",
   "execution_count": 21,
   "id": "fd58afca",
   "metadata": {},
   "outputs": [
    {
     "name": "stdout",
     "output_type": "stream",
     "text": [
      "Own a Home           0.294737\n",
      "Do Not Own a Home    0.189474\n",
      "dtype: float64\n"
     ]
    }
   ],
   "source": [
    "#Unnormalized Posterior Probability Calculation for Boomers II Home Owners & Non-Owners With No Student Loans\n",
    "\n",
    "unnorm6 = prior * likelihoodsBoomersIINoLoans\n",
    "\n",
    "print(unnorm6)"
   ]
  },
  {
   "cell_type": "code",
   "execution_count": 22,
   "id": "c4737cbe",
   "metadata": {},
   "outputs": [
    {
     "name": "stdout",
     "output_type": "stream",
     "text": [
      "Own a Home           0.128571\n",
      "Do Not Own a Home    0.428571\n",
      "dtype: float64\n"
     ]
    }
   ],
   "source": [
    "#Unnormalized Posterior Probability Calculation for Gen X Home Owners & Non-Owners With Student Loans\n",
    "\n",
    "unnorm7 = prior * likelihoodsGenXWithLoans\n",
    "\n",
    "print(unnorm7)"
   ]
  },
  {
   "cell_type": "code",
   "execution_count": 23,
   "id": "a0c07036",
   "metadata": {},
   "outputs": [
    {
     "name": "stdout",
     "output_type": "stream",
     "text": [
      "Own a Home           0.271429\n",
      "Do Not Own a Home    0.214286\n",
      "dtype: float64\n"
     ]
    }
   ],
   "source": [
    "#Unnormalized Posterior Probability Calculation for Gen X Home Owners & Non-Owners With No Student Loans\n",
    "\n",
    "unnorm8 = prior * likelihoodsGenXNoLoans\n",
    "\n",
    "print(unnorm8)"
   ]
  },
  {
   "cell_type": "code",
   "execution_count": 24,
   "id": "b06c76cb",
   "metadata": {},
   "outputs": [
    {
     "name": "stdout",
     "output_type": "stream",
     "text": [
      "Own a Home           0.047059\n",
      "Do Not Own a Home    0.070588\n",
      "dtype: float64\n"
     ]
    }
   ],
   "source": [
    "#Unnormalized Posterior Probability Calculation for Millennials Home Owners & Non-Owners With Student Loans\n",
    "\n",
    "unnorm9 = prior * likelihoodsMillennialsWithLoans\n",
    "\n",
    "print(unnorm9)"
   ]
  },
  {
   "cell_type": "code",
   "execution_count": 25,
   "id": "16162bdb",
   "metadata": {},
   "outputs": [
    {
     "name": "stdout",
     "output_type": "stream",
     "text": [
      "Own a Home           0.047059\n",
      "Do Not Own a Home    0.070588\n",
      "dtype: float64\n"
     ]
    }
   ],
   "source": [
    "#Unnormalized Posterior Probability Calculation for Millennials Home Owners & Non-Owners With No Student Loans\n",
    "\n",
    "unnorm10 = prior * likelihoodsMillennialsNoLoans\n",
    "\n",
    "print(unnorm10)"
   ]
  },
  {
   "cell_type": "code",
   "execution_count": 26,
   "id": "9ef646e3",
   "metadata": {},
   "outputs": [
    {
     "name": "stdout",
     "output_type": "stream",
     "text": [
      "Own a Home           0.16\n",
      "Do Not Own a Home    0.48\n",
      "dtype: float64\n"
     ]
    }
   ],
   "source": [
    "#Unnormalized Posterior Probability Calculation for Gen Z Home Owners & Non-Owners With Student Loans\n",
    "\n",
    "unnorm11 = prior * likelihoodsGenZWithLoans\n",
    "\n",
    "print(unnorm11)"
   ]
  },
  {
   "cell_type": "code",
   "execution_count": 27,
   "id": "aafb0629",
   "metadata": {},
   "outputs": [
    {
     "name": "stdout",
     "output_type": "stream",
     "text": [
      "Own a Home           0.4\n",
      "Do Not Own a Home    0.6\n",
      "dtype: float64\n"
     ]
    }
   ],
   "source": [
    "#Unnormalized Posterior Probability Calculation for Gen Z Home Owners & Non-Owners With No Student Loans\n",
    "\n",
    "unnorm12 = prior * likelihoodsGenZNoLoans\n",
    "\n",
    "print(unnorm12)"
   ]
  },
  {
   "cell_type": "code",
   "execution_count": 28,
   "id": "c9b31107",
   "metadata": {},
   "outputs": [
    {
     "name": "stdout",
     "output_type": "stream",
     "text": [
      "1.0\n"
     ]
    }
   ],
   "source": [
    "#Summation of Unnormalized Posterior Probability Calculation for Post War Home Owners & Non-Owners With Student Loans\n",
    "\n",
    "prob_data1 = unnorm1.sum()\n",
    "\n",
    "print(prob_data1)"
   ]
  },
  {
   "cell_type": "code",
   "execution_count": 29,
   "id": "3618f149",
   "metadata": {},
   "outputs": [
    {
     "name": "stdout",
     "output_type": "stream",
     "text": [
      "0.7\n"
     ]
    }
   ],
   "source": [
    "#Summation of Unnormalized Posterior Probability Calculation for Post War Home Owners & Non-Owners With No Student Loans\n",
    "\n",
    "prob_data2 = unnorm2.sum()\n",
    "\n",
    "print(prob_data2)"
   ]
  },
  {
   "cell_type": "code",
   "execution_count": 30,
   "id": "a7f9d7d6",
   "metadata": {},
   "outputs": [
    {
     "name": "stdout",
     "output_type": "stream",
     "text": [
      "0.3333333333333333\n"
     ]
    }
   ],
   "source": [
    "#Summation of Unnormalized Posterior Probability Calculation for Boomers I Home Owners & Non-Owners With Student Loans\n",
    "\n",
    "prob_data3 = unnorm3.sum()\n",
    "\n",
    "print(prob_data3)"
   ]
  },
  {
   "cell_type": "code",
   "execution_count": 31,
   "id": "8e36b967",
   "metadata": {},
   "outputs": [
    {
     "name": "stdout",
     "output_type": "stream",
     "text": [
      "0.8\n"
     ]
    }
   ],
   "source": [
    "#Summation of Unnormalized Posterior Probability Calculation for Boomers I Home Owners & Non-Owners With No Student Loans\n",
    "\n",
    "prob_data4 = unnorm4.sum()\n",
    "\n",
    "print(prob_data4)"
   ]
  },
  {
   "cell_type": "code",
   "execution_count": 32,
   "id": "ac0d265f",
   "metadata": {},
   "outputs": [
    {
     "name": "stdout",
     "output_type": "stream",
     "text": [
      "0.48\n"
     ]
    }
   ],
   "source": [
    "#Summation of Unnormalized Posterior Probability Calculation for Boomers II Home Owners & Non-Owners With Student Loans\n",
    "\n",
    "prob_data5 = unnorm5.sum()\n",
    "\n",
    "print(prob_data5)"
   ]
  },
  {
   "cell_type": "code",
   "execution_count": 33,
   "id": "77171892",
   "metadata": {},
   "outputs": [
    {
     "name": "stdout",
     "output_type": "stream",
     "text": [
      "0.4842105263157894\n"
     ]
    }
   ],
   "source": [
    "#Summation of Unnormalized Posterior Probability Calculation for Boomers II Home Owners & Non-Owners With No Student Loans\n",
    "\n",
    "prob_data6 = unnorm6.sum()\n",
    "\n",
    "print(prob_data6)"
   ]
  },
  {
   "cell_type": "code",
   "execution_count": 34,
   "id": "4e9b6289",
   "metadata": {},
   "outputs": [
    {
     "name": "stdout",
     "output_type": "stream",
     "text": [
      "0.5571428571428572\n"
     ]
    }
   ],
   "source": [
    "#Summation of Unnormalized Posterior Probability Calculation for Gen X Home Owners & Non-Owners With Student Loans\n",
    "\n",
    "prob_data7 = unnorm7.sum()\n",
    "\n",
    "print(prob_data7)"
   ]
  },
  {
   "cell_type": "code",
   "execution_count": 35,
   "id": "ff718634",
   "metadata": {},
   "outputs": [
    {
     "name": "stdout",
     "output_type": "stream",
     "text": [
      "0.48571428571428577\n"
     ]
    }
   ],
   "source": [
    "#Summation of Unnormalized Posterior Probability Calculation for Gen X Home Owners & Non-Owners With No Student Loans\n",
    "\n",
    "prob_data8 = unnorm8.sum()\n",
    "\n",
    "print(prob_data8)"
   ]
  },
  {
   "cell_type": "code",
   "execution_count": 36,
   "id": "96a5adff",
   "metadata": {},
   "outputs": [
    {
     "name": "stdout",
     "output_type": "stream",
     "text": [
      "0.11764705882352941\n"
     ]
    }
   ],
   "source": [
    "#Summation of Unnormalized Posterior Probability Calculation for Millennials Home Owners & Non-Owners With Student Loans\n",
    "\n",
    "prob_data9 = unnorm9.sum()\n",
    "\n",
    "print(prob_data9)"
   ]
  },
  {
   "cell_type": "code",
   "execution_count": 37,
   "id": "b359d942",
   "metadata": {},
   "outputs": [
    {
     "name": "stdout",
     "output_type": "stream",
     "text": [
      "0.11764705882352941\n"
     ]
    }
   ],
   "source": [
    "#Summation of Unnormalized Posterior Probability Calculation for Millennials Home Owners & Non-Owners With Student Loans\n",
    "\n",
    "prob_data10 = unnorm10.sum()\n",
    "\n",
    "print(prob_data10)"
   ]
  },
  {
   "cell_type": "code",
   "execution_count": 38,
   "id": "639dc14f",
   "metadata": {},
   "outputs": [
    {
     "name": "stdout",
     "output_type": "stream",
     "text": [
      "0.64\n"
     ]
    }
   ],
   "source": [
    "#Summation of Unnormalized Posterior Probability Calculation for Gen Z Home Owners & Non-Owners With Student Loans\n",
    "\n",
    "prob_data11 = unnorm11.sum()\n",
    "\n",
    "print(prob_data11)"
   ]
  },
  {
   "cell_type": "code",
   "execution_count": 39,
   "id": "5174838c",
   "metadata": {},
   "outputs": [
    {
     "name": "stdout",
     "output_type": "stream",
     "text": [
      "1.0\n"
     ]
    }
   ],
   "source": [
    "#Summation of Unnormalized Posterior Probability Calculation for Gen Z Home Owners & Non-Owners With No Student Loans\n",
    "\n",
    "prob_data12 = unnorm12.sum()\n",
    "\n",
    "print(prob_data12)"
   ]
  },
  {
   "cell_type": "code",
   "execution_count": 40,
   "id": "b589b504",
   "metadata": {},
   "outputs": [
    {
     "name": "stdout",
     "output_type": "stream",
     "text": [
      "Own a Home           40.0\n",
      "Do Not Own a Home    60.0\n",
      "dtype: float64\n"
     ]
    }
   ],
   "source": [
    "#Normalized Posterior Probability Percentage of Post War Home Owners & Non-Owners With Student Loans\n",
    "\n",
    "posterior1 = unnorm1 / prob_data1*100\n",
    "\n",
    "print(posterior1)"
   ]
  },
  {
   "cell_type": "code",
   "execution_count": 41,
   "id": "319ee8be",
   "metadata": {},
   "outputs": [
    {
     "name": "stdout",
     "output_type": "stream",
     "text": [
      "Own a Home           57.142857\n",
      "Do Not Own a Home    42.857143\n",
      "dtype: float64\n"
     ]
    }
   ],
   "source": [
    "#Normalized Posterior Probability Percentage of Post War Home Owners & Non-Owners With No Student Loans\n",
    "\n",
    "posterior2 = unnorm2 / prob_data2*100\n",
    "\n",
    "print(posterior2)"
   ]
  },
  {
   "cell_type": "code",
   "execution_count": 42,
   "id": "38233cdc",
   "metadata": {},
   "outputs": [
    {
     "name": "stdout",
     "output_type": "stream",
     "text": [
      "Own a Home           40.0\n",
      "Do Not Own a Home    60.0\n",
      "dtype: float64\n"
     ]
    }
   ],
   "source": [
    "#Normalized Posterior Probability Percentage of Boomers I Home Owners & Non-Owners With Student Loans\n",
    "\n",
    "posterior3 = unnorm3 / prob_data3*100\n",
    "\n",
    "print(posterior3)"
   ]
  },
  {
   "cell_type": "code",
   "execution_count": 43,
   "id": "dfff55b3",
   "metadata": {},
   "outputs": [
    {
     "name": "stdout",
     "output_type": "stream",
     "text": [
      "Own a Home           50.0\n",
      "Do Not Own a Home    50.0\n",
      "dtype: float64\n"
     ]
    }
   ],
   "source": [
    "#Normalized Posterior Probability Percentage of Boomers I Home Owners & Non-Owners With No Student Loans\n",
    "\n",
    "posterior4 = unnorm4 / prob_data4*100\n",
    "\n",
    "print(posterior4)"
   ]
  },
  {
   "cell_type": "code",
   "execution_count": 44,
   "id": "5f9fd651",
   "metadata": {},
   "outputs": [
    {
     "name": "stdout",
     "output_type": "stream",
     "text": [
      "Own a Home           50.0\n",
      "Do Not Own a Home    50.0\n",
      "dtype: float64\n"
     ]
    }
   ],
   "source": [
    "#Normalized Posterior Probability Percentage of Boomers II Home Owners & Non-Owners With Student Loans\n",
    "\n",
    "posterior5 = unnorm5 / prob_data5*100\n",
    "\n",
    "print(posterior5)"
   ]
  },
  {
   "cell_type": "code",
   "execution_count": 45,
   "id": "bd5f3ac3",
   "metadata": {},
   "outputs": [
    {
     "name": "stdout",
     "output_type": "stream",
     "text": [
      "Own a Home           60.869565\n",
      "Do Not Own a Home    39.130435\n",
      "dtype: float64\n"
     ]
    }
   ],
   "source": [
    "#Normalized Posterior Probability Percentage of Boomers II Home Owners & Non-Owners With No Student Loans\n",
    "\n",
    "posterior6 = unnorm6 / prob_data6*100\n",
    "\n",
    "print(posterior6)"
   ]
  },
  {
   "cell_type": "code",
   "execution_count": 46,
   "id": "8f0d5c7c",
   "metadata": {},
   "outputs": [
    {
     "name": "stdout",
     "output_type": "stream",
     "text": [
      "Own a Home           23.076923\n",
      "Do Not Own a Home    76.923077\n",
      "dtype: float64\n"
     ]
    }
   ],
   "source": [
    "#Normalized Posterior Probability Percentage of Gen X Home Owners & Non-Owners With Student Loans\n",
    "\n",
    "posterior7 = unnorm7 / prob_data7*100\n",
    "\n",
    "print(posterior7)"
   ]
  },
  {
   "cell_type": "code",
   "execution_count": 47,
   "id": "b96fc5e2",
   "metadata": {},
   "outputs": [
    {
     "name": "stdout",
     "output_type": "stream",
     "text": [
      "Own a Home           55.882353\n",
      "Do Not Own a Home    44.117647\n",
      "dtype: float64\n"
     ]
    }
   ],
   "source": [
    "#Normalized Posterior Probability Percentage of Gen X Home Owners & Non-Owners With No Student Loans\n",
    "\n",
    "posterior8 = unnorm8 / prob_data8*100\n",
    "\n",
    "print(posterior8)"
   ]
  },
  {
   "cell_type": "code",
   "execution_count": 48,
   "id": "db07a047",
   "metadata": {},
   "outputs": [
    {
     "name": "stdout",
     "output_type": "stream",
     "text": [
      "Own a Home           40.0\n",
      "Do Not Own a Home    60.0\n",
      "dtype: float64\n"
     ]
    }
   ],
   "source": [
    "#Normalized Posterior Probability Percentage of Millennials Home Owners & Non-Owners With Student Loans\n",
    "\n",
    "posterior9 = unnorm9 / prob_data9*100\n",
    "\n",
    "print(posterior9)"
   ]
  },
  {
   "cell_type": "code",
   "execution_count": 49,
   "id": "412ffc6e",
   "metadata": {},
   "outputs": [
    {
     "name": "stdout",
     "output_type": "stream",
     "text": [
      "Own a Home           40.0\n",
      "Do Not Own a Home    60.0\n",
      "dtype: float64\n"
     ]
    }
   ],
   "source": [
    "#Normalized Posterior Probability Percentage of Millennials Home Owners & Non-Owners With No Student Loans\n",
    "\n",
    "posterior10 = unnorm10 / prob_data10*100\n",
    "\n",
    "print(posterior10)"
   ]
  },
  {
   "cell_type": "code",
   "execution_count": 50,
   "id": "a765fc35",
   "metadata": {},
   "outputs": [
    {
     "name": "stdout",
     "output_type": "stream",
     "text": [
      "Own a Home           25.0\n",
      "Do Not Own a Home    75.0\n",
      "dtype: float64\n"
     ]
    }
   ],
   "source": [
    "#Normalized Posterior Probability Percentage of Gen Z Home Owners & Non-Owners With Student Loans\n",
    "\n",
    "posterior11 = unnorm11 / prob_data11*100\n",
    "\n",
    "print(posterior11)"
   ]
  },
  {
   "cell_type": "code",
   "execution_count": 51,
   "id": "b99c55ae",
   "metadata": {},
   "outputs": [
    {
     "name": "stdout",
     "output_type": "stream",
     "text": [
      "Own a Home           40.0\n",
      "Do Not Own a Home    60.0\n",
      "dtype: float64\n"
     ]
    }
   ],
   "source": [
    "#Normalized Posterior Probability Percentage of Gen Z Home Owners & Non-Owners With No Student Loans\n",
    "\n",
    "posterior12 = unnorm12 / prob_data12*100\n",
    "\n",
    "print(posterior12)"
   ]
  },
  {
   "cell_type": "code",
   "execution_count": 52,
   "id": "2b453cc2",
   "metadata": {},
   "outputs": [
    {
     "name": "stdout",
     "output_type": "stream",
     "text": [
      "╒══════════════╤═══════════════════════════╤═════════════════════════════════════╕\n",
      "│ Generation   │ Student Loans Status      │ Posterior Probability Percentages   │\n",
      "╞══════════════╪═══════════════════════════╪═════════════════════════════════════╡\n",
      "│ Post War     │ Have Student Loans        │ Own a Home           40.0           │\n",
      "│              │                           │ Do Not Own a Home    60.0           │\n",
      "│              │                           │ dtype: float64                      │\n",
      "├──────────────┼───────────────────────────┼─────────────────────────────────────┤\n",
      "│ Post War     │ Do Not Have Student Loans │ Own a Home           57.142857      │\n",
      "│              │                           │ Do Not Own a Home    42.857143      │\n",
      "│              │                           │ dtype: float64                      │\n",
      "├──────────────┼───────────────────────────┼─────────────────────────────────────┤\n",
      "│ Boomers I    │ Have Student Loans        │ Own a Home           40.0           │\n",
      "│              │                           │ Do Not Own a Home    60.0           │\n",
      "│              │                           │ dtype: float64                      │\n",
      "├──────────────┼───────────────────────────┼─────────────────────────────────────┤\n",
      "│ Boomers I    │ Do Not Have Student Loans │ Own a Home           50.0           │\n",
      "│              │                           │ Do Not Own a Home    50.0           │\n",
      "│              │                           │ dtype: float64                      │\n",
      "├──────────────┼───────────────────────────┼─────────────────────────────────────┤\n",
      "│ Boomers II   │ Have Student Loans        │ Own a Home           50.0           │\n",
      "│              │                           │ Do Not Own a Home    50.0           │\n",
      "│              │                           │ dtype: float64                      │\n",
      "├──────────────┼───────────────────────────┼─────────────────────────────────────┤\n",
      "│ Boomers II   │ Do Not Have Student Loans │ Own a Home           60.869565      │\n",
      "│              │                           │ Do Not Own a Home    39.130435      │\n",
      "│              │                           │ dtype: float64                      │\n",
      "├──────────────┼───────────────────────────┼─────────────────────────────────────┤\n",
      "│ Gen X        │ Have Student Loans        │ Own a Home           23.076923      │\n",
      "│              │                           │ Do Not Own a Home    76.923077      │\n",
      "│              │                           │ dtype: float64                      │\n",
      "├──────────────┼───────────────────────────┼─────────────────────────────────────┤\n",
      "│ Gen X        │ Do Not Have Student Loans │ Own a Home           55.882353      │\n",
      "│              │                           │ Do Not Own a Home    44.117647      │\n",
      "│              │                           │ dtype: float64                      │\n",
      "├──────────────┼───────────────────────────┼─────────────────────────────────────┤\n",
      "│ Millennials  │ Have Student Loans        │ Own a Home           40.0           │\n",
      "│              │                           │ Do Not Own a Home    60.0           │\n",
      "│              │                           │ dtype: float64                      │\n",
      "├──────────────┼───────────────────────────┼─────────────────────────────────────┤\n",
      "│ Millennials  │ Do Not Have Student Loans │ Own a Home           40.0           │\n",
      "│              │                           │ Do Not Own a Home    60.0           │\n",
      "│              │                           │ dtype: float64                      │\n",
      "├──────────────┼───────────────────────────┼─────────────────────────────────────┤\n",
      "│ Gen Z        │ Have Student Loans        │ Own a Home           25.0           │\n",
      "│              │                           │ Do Not Own a Home    75.0           │\n",
      "│              │                           │ dtype: float64                      │\n",
      "├──────────────┼───────────────────────────┼─────────────────────────────────────┤\n",
      "│ Gen Z        │ Do Not Have Student Loans │ Own a Home           40.0           │\n",
      "│              │                           │ Do Not Own a Home    60.0           │\n",
      "│              │                           │ dtype: float64                      │\n",
      "╘══════════════╧═══════════════════════════╧═════════════════════════════════════╛\n"
     ]
    }
   ],
   "source": [
    "#Posterior Probability of Home Ownership: Table Summary By Age and Gender\n",
    "\n",
    "data = [[\"Post War\", \"Have Student Loans\", posterior1],\n",
    "        [\"Post War\", \"Do Not Have Student Loans\", posterior2],\n",
    "        [\"Boomers I\", \"Have Student Loans\", posterior3],\n",
    "        [\"Boomers I\", \"Do Not Have Student Loans\", posterior4],\n",
    "        [\"Boomers II\", \"Have Student Loans\", posterior5],\n",
    "        [\"Boomers II\", \"Do Not Have Student Loans\", posterior6],\n",
    "        [\"Gen X\", \"Have Student Loans\", posterior7],\n",
    "        [\"Gen X\", \"Do Not Have Student Loans\", posterior8],\n",
    "        [\"Millennials\", \"Have Student Loans\", posterior9],\n",
    "        [\"Millennials\", \"Do Not Have Student Loans\", posterior10],\n",
    "        [\"Gen Z\", \"Have Student Loans\", posterior11],\n",
    "        [\"Gen Z\", \"Do Not Have Student Loans\", posterior12]]\n",
    "\n",
    "col_names = [\"Generation\", \"Student Loans Status\", \"Posterior Probability Percentages\"]\n",
    "\n",
    "print(tabulate(data, headers = col_names, tablefmt = \"fancy_grid\"))"
   ]
  }
 ],
 "metadata": {
  "kernelspec": {
   "display_name": "Python 3 (ipykernel)",
   "language": "python",
   "name": "python3"
  },
  "language_info": {
   "codemirror_mode": {
    "name": "ipython",
    "version": 3
   },
   "file_extension": ".py",
   "mimetype": "text/x-python",
   "name": "python",
   "nbconvert_exporter": "python",
   "pygments_lexer": "ipython3",
   "version": "3.9.13"
  }
 },
 "nbformat": 4,
 "nbformat_minor": 5
}
